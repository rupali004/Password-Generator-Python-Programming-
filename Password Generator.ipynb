{
 "cells": [
  {
   "cell_type": "markdown",
   "id": "7e2d89e0",
   "metadata": {},
   "source": [
    "# CODEWAY Internship Task"
   ]
  },
  {
   "cell_type": "markdown",
   "id": "399eccd0",
   "metadata": {},
   "source": [
    "# Python Programming"
   ]
  },
  {
   "cell_type": "markdown",
   "id": "cda853fa",
   "metadata": {},
   "source": [
    "# Task 3"
   ]
  },
  {
   "cell_type": "markdown",
   "id": "a65e7050",
   "metadata": {},
   "source": [
    "A password generator is a useful tool that generates strong and random passwords for users. This project aims to create a password generator application using Python\n",
    ",allowing users to specify the length and complexity of the password.\n",
    "\n",
    "User Input:\n",
    "Prompt the user to specify the desired length of the password.\n",
    "\n",
    "Generate Password:\n",
    "Use a combination of random characters to generate a password ofthe specified length.\n",
    "\n",
    "Display the Password:\n",
    "Print the generated password on the screen."
   ]
  },
  {
   "cell_type": "markdown",
   "id": "7ae112a4",
   "metadata": {},
   "source": [
    "# PASSWORD GENERATOR"
   ]
  },
  {
   "cell_type": "code",
   "execution_count": 28,
   "id": "4491a381",
   "metadata": {},
   "outputs": [
    {
     "name": "stdout",
     "output_type": "stream",
     "text": [
      "Enter Your Password =>Xyz@12345\n",
      "Password is Valid\n"
     ]
    }
   ],
   "source": [
    "l,u,p,d =0,0,0,0\n",
    "password =input(\"Enter Your Password =>\") # If password is Xyz@12345\n",
    "\n",
    "# check length of password greater than 8\n",
    "\n",
    "if len(password)>=8:\n",
    "    for i in password:\n",
    "       \n",
    "        # counting Lowercase\n",
    "        if (i.islower()):\n",
    "            l+=1\n",
    "        \n",
    "        # counting uppercase\n",
    "        if (i.isupper()):\n",
    "            u+=1\n",
    "        \n",
    "        # count digit\n",
    "        if (i.isdigit()):\n",
    "            d+=1\n",
    "        \n",
    "        # special character\n",
    "        if i=='@' or i=='$' or i=='_':\n",
    "            \n",
    "            p+=1\n",
    "'''\n",
    "        if i in ('@','#','$','%','^','&','*','_'):\n",
    "        p+=1\n",
    "        '''\n",
    "\n",
    "if (l>=1 and u>=1 and p>=1 and d>=1 and l+p+u+d==len(password)):\n",
    "    print(\"Password is Valid\")\n",
    "else:\n",
    "    print(\"Password is Invalid\")"
   ]
  },
  {
   "cell_type": "code",
   "execution_count": null,
   "id": "fd90d860",
   "metadata": {},
   "outputs": [],
   "source": []
  }
 ],
 "metadata": {
  "kernelspec": {
   "display_name": "Python 3 (ipykernel)",
   "language": "python",
   "name": "python3"
  },
  "language_info": {
   "codemirror_mode": {
    "name": "ipython",
    "version": 3
   },
   "file_extension": ".py",
   "mimetype": "text/x-python",
   "name": "python",
   "nbconvert_exporter": "python",
   "pygments_lexer": "ipython3",
   "version": "3.9.13"
  }
 },
 "nbformat": 4,
 "nbformat_minor": 5
}
